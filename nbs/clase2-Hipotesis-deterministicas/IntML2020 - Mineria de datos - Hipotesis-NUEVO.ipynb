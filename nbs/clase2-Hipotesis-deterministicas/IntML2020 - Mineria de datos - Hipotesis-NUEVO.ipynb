{
 "cells": [
  {
   "cell_type": "markdown",
   "metadata": {},
   "source": [
    "<center>\n",
    "<img src=\"images/ods_stickers.jpg\" />\n",
    "    \n",
    "# Introducción al Machine Learning 2020\n",
    "\n",
    "Basado en material de  [Yury Kashnitsky](https://yorko.github.io). Traducido y editado al español por [Ana Georgina Flesia](https://www.linkedin.com/in/georginaflesia/). Este material esta sujeto a los términos y condiciones de la licencia  [Creative Commons CC BY-NC-SA 4.0](https://creativecommons.org/licenses/by-nc-sa/4.0/). Se permite el uso irrestricto para todo propósito no comercial."
   ]
  },
  {
   "cell_type": "markdown",
   "metadata": {},
   "source": [
    "##  Minería de datos- Hipótesis"
   ]
  },
  {
   "cell_type": "code",
   "execution_count": 1,
   "metadata": {},
   "outputs": [],
   "source": [
    "from IPython.display import Image"
   ]
  },
  {
   "cell_type": "markdown",
   "metadata": {},
   "source": [
    "### Ejercicio 1- En un consultorio oftalmológico la secretaria entrega a cada paciente la siguiente ficha, antes ser atendido, para que sea completada por el profesional:\n",
    "\n"
   ]
  },
  {
   "cell_type": "markdown",
   "metadata": {},
   "source": [
    "________________________________________\n",
    "\n",
    "    Paciente      (Nombre y Apellido)\n",
    "\n",
    "    Edad          (años)\n",
    "    \n",
    "    Prescripción  (miopía-hipermetropía)\n",
    "    \n",
    "    Astigmatismo  (si/no)\n",
    "    \n",
    "    Lagrimeo      (normal/reducido)\n",
    "    \n",
    "________________________________________\n",
    "\n",
    "\n",
    "En cada turno de trabajo se atienden seis pacientes y a continuacion se presentan las fichas completadas por el oculista adecuadamente anonimizadas \n"
   ]
  },
  {
   "cell_type": "raw",
   "metadata": {},
   "source": [
    "    Primer turno\n",
    "    --------------------------------------------------------------------------------------------------------------\n",
    "    paciente     | 01       | 02     | 03            | 04     | 05            | 06     |\n",
    "    --------------------------------------------------------------------------------------------------------------\n",
    "    edad         | 22       | 71     | 41            | 32     | 68            | 72     |\n",
    "    prescripción | miopía   | miopía | hipermetropía | miopía | hipermetropía | miopía |\n",
    "    astigmatismo | no       | sí     | no            | sí     | sí            | no     |\n",
    "    lagrimeo     | reducido | normal | reducido      | normal | reducido      | normal |\n",
    "\n",
    "    --------------------------------------------------------------------------------------------------------------\n",
    "\n",
    "\n",
    "    Segundo Turno\n",
    "    --------------------------------------------------------------------------------------------------------------\n",
    "    paciente     | 07            | 08       | 09       | 10     | 11            | 12     |\n",
    "    --------------------------------------------------------------------------------------------------------------\n",
    "    edad         | 62            | 42       | 38       | 43     | 28            | 37     |\n",
    "    prescripción | hipermetropía | miopía   | miopía   | miopía | hipermetropía | miopía |\n",
    "    astigmatismo | sí            | sí       | no       | no     | sí            | sí     |\n",
    "    lagrimeo     | normal        | reducido | reducido | normal | normal        | normal |\n",
    "\n",
    "    --------------------------------------------------------------------------------------------------------------\n",
    "\n",
    "\n",
    "    Tercer turno\n",
    "    --------------------------------------------------------------------------------------------------------------\n",
    "    paciente     | 13            | 14            | 15            | 16       | 17       | 18            |\n",
    "    --------------------------------------------------------------------------------------------------------------\n",
    "    edad         | 45            | 37            | 68            | 18       | 51       | 15            |\n",
    "    prescripción | hipermetropía | hipermetropía | hipermetropía | miopía   | miopía   | hipermetropía |\n",
    "    astigmatismo | sí            | no            | no            | sí       | no       | no            |\n",
    "    lagrimeo     | normal        | normal        | normal        | reducido | reducido | normal        |\n",
    "\n",
    "    --------------------------------------------------------------------------------------------------------------\n",
    "\n",
    "\n",
    "    Cuarto turno\n",
    "    --------------------------------------------------------------------------------------------------------------\n",
    "    paciente     | 19       & 20     & 21            & 22            & 23            & 24            \n",
    "    --------------------------------------------------------------------------------------------------------------\n",
    "    edad         | 63       | 30     | 74            | 44            | 15            | 17            |\n",
    "    prescripción | miopía   | miopía | hipermetropía | hipermetropía | hipermetropía | hipermetropía |\n",
    "    astigmatismo | sí       | no     | no            | sí            | no            | sí            |\n",
    "    lagrimeo     | reducido | normal | reducido      | reducido      | reducido      | reducido      |\n",
    "\n"
   ]
  },
  {
   "cell_type": "markdown",
   "metadata": {},
   "source": [
    "Una vez completada la ficha, los pacientes se dirigen luego al consultorio del oftalmólogo para que\n",
    "les recomienden o no el uso de lentes de contacto. Al final del dia el resumen de recomendaciones\n",
    "se recopila en la siguiente tabla:"
   ]
  },
  {
   "cell_type": "raw",
   "metadata": {},
   "source": [
    "\n",
    "    paciente | recomendación | paciente | recomendación |paciente | recomendación |\n",
    "    -------------------------------------------------------------------------------\n",
    "    \n",
    "    01       | nada          |  09      | nada          | 17      | nada          |\n",
    "    02       | duras         |  10      | blandas       | 18      | blandas       |\n",
    "    03       | nada          |  11      | nada          | 19      | nada          |\n",
    "    04       | duras         |  12      | duras         | 20      | blandas       |\n",
    "    05       | nada          |  13      | nada          | 21      | nada          |\n",
    "    06       | blandas       |  14      | blandas       | 22      | nada          |\n",
    "    07       | nada          |  15      | blandas       | 23      | nada          |\n",
    "    08       | nada          |  16      | nada          | 24      | nada          |\n",
    "\n"
   ]
  },
  {
   "cell_type": "markdown",
   "metadata": {},
   "source": [
    "### A): Elaborar una pregunta adecuada sobre los datos para formular un problema de aprendizaje automatico basado en la recomendacion del contactologo.\n"
   ]
  },
  {
   "cell_type": "markdown",
   "metadata": {},
   "source": [
    "Escriba su respuesta aquí"
   ]
  },
  {
   "cell_type": "markdown",
   "metadata": {},
   "source": [
    "### B): Señalar los problemas que tienen las tablas recolectadas en el consultorio para abordar el problema de aprendizaje supervisado.\n"
   ]
  },
  {
   "cell_type": "markdown",
   "metadata": {},
   "source": [
    "Escriba su respuesta aquí"
   ]
  },
  {
   "cell_type": "markdown",
   "metadata": {},
   "source": [
    "### C): A partir de la informacion disponible, elaborar un esquema apropiado para disponer los datos en una tabla util para mineria. Identificar las caracteristicas (variables) y su tipo de datos y declarar cual es la clase y sus valores para el problema de clasificacion.\n"
   ]
  },
  {
   "cell_type": "markdown",
   "metadata": {},
   "source": [
    "Escriba su respuesta aquí"
   ]
  },
  {
   "cell_type": "markdown",
   "metadata": {},
   "source": [
    "### D): Calcular el numero total de instancias posibles, suponiendo que la posible edad de un paciente esta en el intervalo que incluye los valores 10 y 100.\n"
   ]
  },
  {
   "cell_type": "markdown",
   "metadata": {},
   "source": [
    "Escriba su respuesta aquí"
   ]
  },
  {
   "cell_type": "markdown",
   "metadata": {},
   "source": [
    "### E): Construir la tabla de mineria con los ejemplos dados a partir del esquema formulado, dejando la clase en la ultima columna.\n"
   ]
  },
  {
   "cell_type": "markdown",
   "metadata": {},
   "source": [
    "Escriba su respuesta aquí"
   ]
  },
  {
   "cell_type": "markdown",
   "metadata": {},
   "source": [
    "### F): Determinar a partir de los datos si las siguientes hipotesis son verdaderas o falsas:\n",
    "    Si el lagrimeo es reducido entonces la recomendacion es nada (es decir, no usar lentes de contacto).\n",
    "    Si la prescripcion es hipermetropia, no tiene astigmatismo y el lagrimeo es normal entonces la recomendacion es lentes duras.\n"
   ]
  },
  {
   "cell_type": "markdown",
   "metadata": {},
   "source": [
    "Escriba su respuesta aquí"
   ]
  },
  {
   "cell_type": "markdown",
   "metadata": {},
   "source": [
    "### G): Elaborar las hipotesis especificas maximales en el aprendizaje de los conceptos: prescripcion de lentes duras y prescripcion de lentes blandas. Ayuda: Reconocer previamente las variables irrelevantes para ambos problemas.\n"
   ]
  },
  {
   "cell_type": "markdown",
   "metadata": {},
   "source": [
    "Escriba su respuesta aquí"
   ]
  },
  {
   "cell_type": "markdown",
   "metadata": {},
   "source": [
    "### H): Utilizando las hipotesis especıficas elaboradas, construir un arbol de decision utilizando en cada nodo la sentencia if sobre los valores una caracterıstica para reproducir el criterio de clasificacion empleado en el consultorio oftalmologico. \n",
    "Ayuda: Las decisiones en cada nodo sobre los valores de las caracteristicas son todas binarias y no se repiten caracteristicas una vez usadas. La construccion de este arbol determina una jerarquia de las caracteristicas en cuanto su importancia en la determinacion de la clase."
   ]
  },
  {
   "cell_type": "markdown",
   "metadata": {},
   "source": [
    "Escriba su respuesta aquí"
   ]
  },
  {
   "cell_type": "markdown",
   "metadata": {},
   "source": [
    "### Ejercicio 2: Se desea inferir el método de elección de libros de lectura. Para ello se estudian los siguientes variables"
   ]
  },
  {
   "cell_type": "raw",
   "metadata": {},
   "source": [
    "\n",
    "________________________________________\n",
    "\n",
    "    Libro      (número de identificación)\n",
    "\n",
    "    Acción     (leer-no leer)\n",
    "    \n",
    "    Autor        (conocido-desconocido)\n",
    "    \n",
    "    Trama       (nueva-vieja)\n",
    "    \n",
    "    Longitud    (largo-corto)\n",
    "    \n",
    "    Sitio        (casa-trabajo)\n",
    "    \n",
    "_______________________________________\n"
   ]
  },
  {
   "cell_type": "markdown",
   "metadata": {},
   "source": [
    "Y se recolectan los siguientes datos."
   ]
  },
  {
   "cell_type": "raw",
   "metadata": {},
   "source": [
    "\n",
    "     |  Ejemplo | Accion  | Autor       | Trama | Longitud | Sitio  | \n",
    "    -----------------------------------------------------------------\n",
    "     |e1        |saltar   |conocido     |nuevo  |largo     |casa    |\n",
    "     |e2        |leer     |desconocido  |nuevo  |corto     |trabajo |\n",
    "     |e3        |saltar   |desconocido  |viejo  |largo     |trabajo |\n",
    "     |e4        |saltar   |conocido     |viejo  |largo     |casa    |\n",
    "     |e5        |leer     |conocido     |nuevo  |corto     |casa    |\n",
    "     |e6        |saltar   |conocido     |viejo  |largo     |trabajo |\n",
    "     |e7        |saltar   |desconocido  |viejo  |corto     |trabajo |\n",
    "     |e8        |leer     |desconocido  |nuevo  |corto     |trabajo |\n",
    "     |e9        |saltar   |conocido     |viejo  |largo     |casa    |\n",
    "     |e10       |saltar   |conocido     |nuevo  |largo     |trabajo |\n",
    "     |e11       |saltar   |desconocido  |viejo  |corto     |casa    |\n",
    "     |e12       |saltar   |conocido     |nuevo  |largo     |trabajo |\n",
    "     |e13       |leer     |conocido     |viejo  |corto     |casa    |\n",
    "     |e14       |leer     |conocido     |nuevo  |corto     |trabajo |\n",
    "     |e15       |leer     |conocido     |nuevo  |corto     |casa    |\n",
    "     |e16       |leer     |conocido     |viejo  |corto     |trabajo |\n",
    "     |e17       |leer     |conocido     |nuevo  |corto     |casa    |\n",
    "     |e18       |leer     |desconocido  |nuevo  |corto     |trabajo |"
   ]
  },
  {
   "cell_type": "markdown",
   "metadata": {},
   "source": [
    "### A): A partir de la informacion disponible, elabore un dataframe adecuado para minería. Identifique las caracteristicas (variables) y su tipo de datos y declare cual es la clase y sus valores para el problema de clasificacion."
   ]
  },
  {
   "cell_type": "markdown",
   "metadata": {},
   "source": [
    "Escriba su respuesta aquí"
   ]
  },
  {
   "cell_type": "markdown",
   "metadata": {},
   "source": [
    "### B): Calcule el numero total de instancias posibles."
   ]
  },
  {
   "cell_type": "markdown",
   "metadata": {},
   "source": [
    "Escriba su respuesta aquí"
   ]
  },
  {
   "cell_type": "markdown",
   "metadata": {},
   "source": [
    "### C): Determinar a partir de los datos si las siguientes hipotesis son verdaderas o falsas:\n",
    "    Si el el libro es de un autor conocido con una trama vieja, es corto y se desea leer en camino al trabajo, la recomendación es no leer. \n",
    "    \n",
    "    \n",
    "    Si el el libro es de un autor desconocido con una trama nueva, es corto y se desea leer en camino al trabajo, la recomendación es leer. "
   ]
  },
  {
   "cell_type": "markdown",
   "metadata": {},
   "source": [
    "Escriba su respuesta aquí"
   ]
  },
  {
   "cell_type": "markdown",
   "metadata": {},
   "source": [
    "### D): Elaborar las hipotesis especificas maximales en el aprendizaje del concepto 'recomendacion para leer'. \n"
   ]
  },
  {
   "cell_type": "markdown",
   "metadata": {},
   "source": [
    "Escriba su respuesta aquí"
   ]
  },
  {
   "cell_type": "markdown",
   "metadata": {},
   "source": [
    "### E): Utilizando las hipotesis especıficas elaboradas, construir un arbol de decision utilizando en cada nodo la sentencia if sobre los valores una caracterıstica para reproducir el criterio de clasificacion empleado."
   ]
  },
  {
   "cell_type": "markdown",
   "metadata": {},
   "source": [
    "Escriba su respuesta aquí"
   ]
  },
  {
   "cell_type": "markdown",
   "metadata": {},
   "source": [
    "<br>\n",
    "<br>"
   ]
  },
  {
   "cell_type": "markdown",
   "metadata": {},
   "source": []
  }
 ],
 "metadata": {
  "anaconda-cloud": {},
  "kernelspec": {
   "display_name": "Python 3 (ipykernel)",
   "language": "python",
   "name": "python3"
  },
  "language_info": {
   "codemirror_mode": {
    "name": "ipython",
    "version": 3
   },
   "file_extension": ".py",
   "mimetype": "text/x-python",
   "name": "python",
   "nbconvert_exporter": "python",
   "pygments_lexer": "ipython3",
   "version": "3.7.1"
  }
 },
 "nbformat": 4,
 "nbformat_minor": 4
}
