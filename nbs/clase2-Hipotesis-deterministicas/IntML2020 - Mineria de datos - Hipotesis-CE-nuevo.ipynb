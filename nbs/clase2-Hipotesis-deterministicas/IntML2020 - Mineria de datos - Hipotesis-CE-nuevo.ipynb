{
 "cells": [
  {
   "cell_type": "markdown",
   "metadata": {},
   "source": [
    "<center>\n",
    "<img src=\"../images/ods_stickers.jpg\" />\n",
    "    \n",
    "# Introducción al Machine Learning 2020\n",
    "\n",
    "Basado en material de  Prof. M. Riedmiller y Manuel Blum Traducido y editado al español por [Ana Georgina Flesia](https://www.linkedin.com/in/georginaflesia/). Este material esta sujeto a los términos y condiciones de la licencia  [Creative Commons CC BY-NC-SA 4.0](https://creativecommons.org/licenses/by-nc-sa/4.0/). Se permite el uso irrestricto para todo propósito no comercial."
   ]
  },
  {
   "cell_type": "markdown",
   "metadata": {},
   "source": [
    "### Ejercicio 1: Version Spaces and Conjunctive Hypotheses\n",
    "\n",
    "### (a) Qué son los elementos de un espacio de versión? Cómo están ordenados? Qué se puede decir sobre la definición y el tamaño de  S and G?"
   ]
  },
  {
   "cell_type": "code",
   "execution_count": 3,
   "metadata": {},
   "outputs": [],
   "source": [
    "# Escriba su respuesta aquí"
   ]
  },
  {
   "cell_type": "markdown",
   "metadata": {},
   "source": [
    "### (b) A continuación, se desea describir si una persona está enferma.  Usamos una representación basada en restricciones conjuntivas (tres por sujeto) para describir a una persona individual. Estas restricciones son \"moco\", \"tos\" y \"piel enrojecida\", cada una de las cuales puede tomar el valor verdadero (‘+’) o falso (‘-’). Decimos que alguien está enfermo, si está tosiendo y tiene la nariz con moco. Cada síntoma individualmente no significa que la persona esté enferma. Especifique el espacio de hipótesis que gestiona el enfoque de espacio de versiones. Para hacerlo, organice todas las hipótesis en una estructura gráfica utilizando la relación \"más específica que\"."
   ]
  },
  {
   "cell_type": "code",
   "execution_count": 5,
   "metadata": {},
   "outputs": [],
   "source": [
    "# Haga su dibujito aqui (puede hacerlo en papel y subir una foto, o puede usar la pantalla táctil, si la tiene)"
   ]
  },
  {
   "cell_type": "markdown",
   "metadata": {},
   "source": [
    "\n",
    "### c) Aplique el algoritmo de eliminación de candidatos (CE) a la secuencia de ejemplos de entrenamiento especificados en la Tabla  y nombre los contenidos de los conjuntos S y G después de cada paso.\n",
    "\n",
    "\n",
    "     |  Ejemplo | Moco  | Tos| Piel enrojecida | Clasificación     | \n",
    "    -----------------------------------------------------------\n",
    "     |   d1     |   +   |  + |         +       | positivo (enfermo)|\n",
    "     |   d2     |   +   |  + |         -       | positivo (enfermo)|\n",
    "     |   d3     |   +   |  - |         +       | negativo (sano)   |\n",
    "     |   d4     |   -   |  + |         +       | negativo (sano)   |\n",
    "     |   d5     |   -   |  - |         +       | negativo (sano)   |\n",
    "     |   d6     |   -   |  - |         -       | negativo (sano)   |\n"
   ]
  },
  {
   "cell_type": "markdown",
   "metadata": {},
   "source": [
    "### d) Considera Ud que el órden de ingreso de los datos de la tabla afecta el aprendizaje de la hipótesis de salida? "
   ]
  },
  {
   "cell_type": "code",
   "execution_count": 6,
   "metadata": {},
   "outputs": [],
   "source": [
    "# Escriba su respuesta aquí"
   ]
  },
  {
   "cell_type": "markdown",
   "metadata": {},
   "source": [
    "### e) Supongamos un dominio con dos atributos, es decir, cualquier instancia se describe mediante dos restricciones. ¿Cuántos ejemplos de entrenamiento positivo y negativo son mínimamente requeridos por el algoritmo de eliminación de candidatos para aprender un concepto arbitrario?"
   ]
  },
  {
   "cell_type": "code",
   "execution_count": 8,
   "metadata": {},
   "outputs": [],
   "source": [
    "# Escriba su respuesta aquí"
   ]
  },
  {
   "cell_type": "markdown",
   "metadata": {},
   "source": [
    "### f) Ahora estamos ampliando el número de restricciones utilizadas para describir instancias de entrenamiento con  una restricción adicional llamada \"fiebre\". Decimos que alguien está enfermo, si tiene moco y está tosiendo (como lo hicimos antes), o si tiene fiebre. ¿Cómo funciona el enfoque del espacio de versiones usando el algoritmo CE ahora, dados las instancias nuevas? Qué sucede si el orden de presentación de las instancias se altera?\n",
    "\n",
    "\n",
    "\n",
    "\n",
    "     |  Ejemplo | Moco  | Tos| Piel enrojecida | Fiebre | Clasificación     | \n",
    "    -----------------------------------------------------------\n",
    "     |   d1     |   +   |  + |         +       |    -   | positivo (enfermo)|\n",
    "     |   d2     |   +   |  + |         -       |    -   | positivo (enfermo)|\n",
    "     |   d3     |   +   |  - |         +       |    +   | positivo (enfermo)|\n",
    "     |   d4     |   -   |  + |         +       |    -   | negativo (sano)   |\n",
    "     |   d5     |   -   |  - |         +       |    -   | negativo (sano)   |\n",
    "     |   d6     |   -   |  - |         -       |    -   | negativo (sano)   |\n",
    "\n",
    "coverge con S y G distintos\n",
    "\n",
    "\n",
    "     |  Ejemplo | Moco  | Tos| Piel enrojecida | Fiebre | Clasificación     | \n",
    "    -----------------------------------------------------------\n",
    "     |   d1     |   +   |  + |         +       |    -   | positivo (enfermo)|\n",
    "     |   d2     |   +   |  + |         -       |    -   | positivo (enfermo)|\n",
    "     |   d3     |   -   |  - |         +       |    +   | positivo (enfermo)|\n",
    "     |   d4     |   +   |  - |         -       |    -   | negativo (sano)   |\n",
    "     |   d5     |   -   |  - |         -       |    -   | negativo (sano)   |\n",
    "     |   d6     |   -   |  + |         -       |    -   | negativo (sano)   |\n",
    "     \n",
    " vacio \n"
   ]
  },
  {
   "cell_type": "code",
   "execution_count": null,
   "metadata": {},
   "outputs": [],
   "source": [
    "# desarrolle aquí"
   ]
  },
  {
   "cell_type": "markdown",
   "metadata": {},
   "source": [
    "### g)  Para ejemplificar aún más el algoritmo, encuentre el concepto que define un objeto en este dataset \n",
    "\n",
    "    +-------+-------+----------+-------------+\n",
    "    | Size  | Color | Shape    | Class/Label |\n",
    "    +=======+=======+==========+=============+\n",
    "    | big   | red   | circle   | No          |\n",
    "    | small | red   | triangle | No          |\n",
    "    | small | red   | circle   | Yes         |\n",
    "    | big   | blue  | circle   | No          |\n",
    "    | small | blue  | circle   | Yes         |\n",
    "    +-------+-------+----------+-------------+\n"
   ]
  },
  {
   "cell_type": "code",
   "execution_count": null,
   "metadata": {},
   "outputs": [],
   "source": [
    "# desarrolle aquí"
   ]
  }
 ],
 "metadata": {
  "kernelspec": {
   "display_name": "Python 3",
   "language": "python",
   "name": "python3"
  },
  "language_info": {
   "codemirror_mode": {
    "name": "ipython",
    "version": 3
   },
   "file_extension": ".py",
   "mimetype": "text/x-python",
   "name": "python",
   "nbconvert_exporter": "python",
   "pygments_lexer": "ipython3",
   "version": "3.6.4"
  }
 },
 "nbformat": 4,
 "nbformat_minor": 2
}
